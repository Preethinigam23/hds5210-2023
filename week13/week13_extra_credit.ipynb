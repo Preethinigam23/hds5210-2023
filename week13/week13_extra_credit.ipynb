{
  "cells": [
    {
      "cell_type": "markdown",
      "metadata": {
        "id": "kiMF3wokuo2i"
      },
      "source": [
        "# Week 13 Extra Credit - How will ChatGPT do on your final project idea?\n",
        "\n",
        "This extra credit assignment is entirely optional.  You do not need to do it.\n",
        "\n",
        "If you would like the opportunity to earn up to 5 extra credit points, complete this assignment and submit it via GitHub as normal before Monday, November 27 at 11:59 PM CST.  No late submissions will be accepted.  The file must be saved to your week13 folder in GitHub."
      ]
    },
    {
      "cell_type": "markdown",
      "metadata": {
        "id": "PrWv5wRpuo2k"
      },
      "source": [
        "## Part 1: Have a conversation with ChatGPT\n",
        "\n",
        "I want you to have a conversation with ChatGPT about your final project idea.  Find out what it thinks about your idea and if it has any data sources (URLs for specific sites) that could be helpful.  Below, either include copy/paste the chat history from your conversation or include a link to the shared chat.  (ChatGPT has an [option to share a link to a specific conversation](https://help.openai.com/en/articles/7925741-chatgpt-shared-links-faq).  It's the up-arrow icon in the upper-right corner of your chat window.)\n",
        "\n",
        "Take this conversationw with ChatGPT as far as you want, but at least ask three or four follow-up questions to refine the information you're getting back.\n",
        "\n",
        "If it starts giving you links to information, don't assume they're going to work. Remember that ChatGPT isn't perfect. So, follow the links and make sure there's information there that matches what ChatGPT says you will find."
      ]
    },
    {
      "cell_type": "markdown",
      "metadata": {
        "id": "kaCqm-bxuo2k"
      },
      "source": [
        "Here is my Conversation with ChatGPT\n",
        "https://chat.openai.com/share/3d97b7d4-ae82-45c9-90a7-865d2ac3f040"
      ]
    },
    {
      "cell_type": "markdown",
      "metadata": {
        "id": "p8O9HeFBuo2k"
      },
      "source": [
        "### Part 2: Your reflection\n",
        "\n",
        "Below, tell me what you think ChatGPT did well or not well in your conversation.  Was it good at finding data that you needed?  Was it good at finding actual links that worked?  Did its responses make sense to you?  What did it do well / not well?\n",
        "\n",
        "Your response below should be several sentences.  If you don't have enough feedback, expand your conversation with ChatGPT.  Ask it refine your project idea or start writing code for you.  See what it can do."
      ]
    },
    {
      "cell_type": "markdown",
      "metadata": {
        "id": "Hn_xYh41uo2k"
      },
      "source": [
        "\n",
        "ChatGPT did a good job of guiding me through the process of doing my final project on COVID-19 demographics data. However, it was not able to provide me with the links to the COVID-19 datasets that I needed. I asked ChatGPT for the links repeatedly, but it was not able to provide them\n",
        "It provided a good overview of the topic of COVID-19 demographics data but was not able to provide me with the links to the COVID-19 datasets that I needed.\n",
        "Sometimes provided vague or unhelpful responses.\n",
        "Did not always seem to understand my questions.\n",
        "Overall, I think ChatGPT is a helpful tool, but it is important to be aware of its limitations. It is not always able to provide the specific information that we need, and it can sometimes be frustrating to deal with. However, it can be a helpful tool for brainstorming ideas"
      ]
    },
    {
      "cell_type": "markdown",
      "metadata": {
        "id": "V0NWBHAQuo2l"
      },
      "source": [
        "### Submitting\n",
        "\n",
        "Submit this as normal to GitHub with the name `wee13/week13_extra_credit.ipynb`"
      ]
    },
    {
      "cell_type": "markdown",
      "metadata": {
        "id": "8W_3dfPauo2l"
      },
      "source": []
    }
  ],
  "metadata": {
    "language_info": {
      "name": "python"
    },
    "colab": {
      "provenance": []
    }
  },
  "nbformat": 4,
  "nbformat_minor": 0
}