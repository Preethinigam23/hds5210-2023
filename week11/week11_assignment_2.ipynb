{
  "cells": [
    {
      "cell_type": "markdown",
      "metadata": {
        "id": "0x2TBdYwNMXK"
      },
      "source": [
        "# Week 11 Assignment\n",
        "\n",
        "\n",
        "Please do the programming exercise and verify that your code works using the tests, then think about your final project and fill out the questions in the second part.\n",
        "\n",
        "---\n",
        "---"
      ]
    },
    {
      "cell_type": "markdown",
      "metadata": {
        "id": "nW7Qu130NMXL"
      },
      "source": [
        "### 47.1: Filtering and summarizing data\n",
        "\n",
        "For this work, you'll find a data file in `https://hds5210-data.s3.amazonaws.com/complications_all.csv`.\n",
        "\n",
        "Read in the data file and create a variable called `mo_hospitals` that contains a data frame from the `complications_all.csv` file, filtered down to only contain those hospitals from the state of Missouri (MO).\n",
        "\n",
        "Then aggregate that data by hospital into a variable named `mo_summary`.  There are some key fields that we want to summarize:\n",
        "* We want to know the earliest date that each hospital was participating in any program\n",
        "* We want to know the latest date that each hospital stopped participating in any program\n",
        "* We want to know the total number of patients in the denominators of these programs\n",
        "\n",
        "Some things to note:\n",
        "* You will need to convert the `Start Date` and `End Date` to actual datetime fields\n",
        "* You will need to clean up and convert the `Denominator` field to just be numeric - the rule that you should use it to simply remove any records where the `Denominator` is `'Not Available'`\n",
        "\n",
        "\n",
        "The final result of this step should be a new data frame called `mo_summary` that contains one row for each hospital and contains the min start date, max end date, and total denominator.  Use the names `start_date`, `end_date`, and `number` for those columns in `mo_summary`.\n",
        "\n",
        "\n",
        "You do not need to create your code in the form of a function, just make sure your variable names match what I've described above so the tests work."
      ]
    },
    {
      "cell_type": "code",
      "execution_count": 1,
      "metadata": {
        "id": "o_c0nhLWNMXL"
      },
      "outputs": [],
      "source": [
        "import pandas as pd\n",
        "all_hospitals = pd.read_csv('https://hds5210-data.s3.amazonaws.com/complications_all.csv')\n"
      ]
    },
    {
      "cell_type": "code",
      "source": [
        "mo_hospitals = all_hospitals[all_hospitals['State'] == 'MO'].copy()"
      ],
      "metadata": {
        "id": "4CltfN4vNboh"
      },
      "execution_count": 3,
      "outputs": []
    },
    {
      "cell_type": "code",
      "source": [
        "mo_hospitals['Start Date'] = pd.to_datetime(mo_hospitals['Start Date'])\n",
        "mo_hospitals['End Date'] = pd.to_datetime(mo_hospitals['End Date'])\n"
      ],
      "metadata": {
        "id": "z3-Pf2zuNqtW"
      },
      "execution_count": 4,
      "outputs": []
    },
    {
      "cell_type": "code",
      "source": [
        "mo_hospitals = mo_hospitals[mo_hospitals['Denominator'] != 'Not Available'].copy()"
      ],
      "metadata": {
        "id": "0K2y4GacNyK3"
      },
      "execution_count": 5,
      "outputs": []
    },
    {
      "cell_type": "code",
      "source": [
        "mo_hospitals['Denominator'] = pd.to_numeric(mo_hospitals['Denominator'])"
      ],
      "metadata": {
        "id": "q9vgHWfBN2mS"
      },
      "execution_count": 6,
      "outputs": []
    },
    {
      "cell_type": "code",
      "source": [
        "mo_summary = mo_hospitals.groupby('Facility Name').agg(\n",
        "    start_date=('Start Date', 'min'),\n",
        "    end_date=('End Date', 'max'),\n",
        "    number=('Denominator', 'sum')\n",
        ")\n"
      ],
      "metadata": {
        "id": "ScIfMtj4N7Oq"
      },
      "execution_count": 7,
      "outputs": []
    },
    {
      "cell_type": "code",
      "execution_count": 8,
      "metadata": {
        "id": "WW_NVvA4NMXM"
      },
      "outputs": [],
      "source": [
        "assert(mo_summary['number'].sum() == 1766908)\n",
        "assert(mo_summary['start_date'].min() == pd.Timestamp(2015,4,1))\n",
        "assert(mo_summary['end_date'].max() == pd.Timestamp(2018,6,30))\n",
        "assert(mo_summary.shape == (108,3))\n",
        "assert(mo_summary.loc['BARNES JEWISH HOSPITAL'].number == 131313)\n",
        "assert(mo_summary.loc['BOONE HOSPITAL CENTER'].number == 63099)"
      ]
    },
    {
      "cell_type": "markdown",
      "metadata": {
        "id": "8XuAS38SNMXM"
      },
      "source": [
        "---\n",
        "\n",
        "### 47.2 Planning your final project\n",
        "\n",
        "You should be thinking about the things we've been learning and how you can apply them to your final project.  Use the rubric to help guid your thinking and then answer the questions below.  This is meant as a guide to help you think through what you will do."
      ]
    },
    {
      "cell_type": "markdown",
      "metadata": {
        "id": "F4UbuVmMNMXM"
      },
      "source": [
        "#### A) Data Access\n",
        "\n",
        "Your project should include data from at least three distinct types of sources.  For example: AWS S3, Relational Databases, Internet, Web Services, local files.  List what data sources you're planning to use."
      ]
    },
    {
      "cell_type": "markdown",
      "metadata": {
        "id": "4oL5c6yZNMXN"
      },
      "source": [
        "1. Heart-Disease from Kaggle\n",
        "https://www.kaggle.com/datasets/allanwandia/heart-disease\n",
        "2. Heart Disease Mortality Data from Healthdata.gov\n",
        "https://healthdata.gov/dataset/Heart-Disease-Mortality-Data-Among-US-Adults-35-by/xg8i-mvdk\n",
        "3. Behavioral Risk Factor Surveillance System (BRFSS) - National Cardiovascular Disease Surveillance Data from CDC\n",
        "https://data.cdc.gov/Heart-Disease-Stroke-Prevention/Behavioral-Risk-Factor-Surveillance-System-BRFSS-N/ikwk-8git\n"
      ]
    },
    {
      "cell_type": "markdown",
      "metadata": {
        "id": "4jnoZCA8NMXN"
      },
      "source": [
        "#### B. Data Formats\n",
        "\n",
        "Your project should include data that comes in different file formats.  For example: HL7, EDI, HTML, CSV, Excel, JSON, XML.  List what data formats you're planning to use."
      ]
    },
    {
      "cell_type": "markdown",
      "metadata": {
        "id": "v83ZLL6wNMXN"
      },
      "source": [
        "CSV\n",
        "JSON\n",
        "XML\n"
      ]
    },
    {
      "cell_type": "markdown",
      "metadata": {
        "id": "tBl3grBdNMXN"
      },
      "source": [
        "#### C. Objective\n",
        "\n",
        "What purpose would your project serve in a real work setting?  Take a couple of paragraphs to write down why this is an interesting product."
      ]
    },
    {
      "cell_type": "markdown",
      "metadata": {
        "id": "1kHL0vDmNMXN"
      },
      "source": [
        "My project aims to construct a comprehensive picture of heart disease dynamics. This approach is extremely relevant in real-world healthcare applications.\n",
        "\n",
        "Firstly, the project will offer valuable for healthcare practitioners and medical researchers. By comparing predictive data with actual mortality data, it will produce a clearer understanding of the effectiveness of current predictive models for heart disease. Such insights are essential for enhancing early detection and preventative strategies.\n",
        "\n",
        "Additionally, the inclusion of BRFSS data allows for an exploration of the lifestyle and behavioral factors  that influence heart disease. This analysis is crucial for public health officals and policy makers, offering data-driven evidence to shape health promotion campaigns and preventative measures aimed at reducing heart disease risk"
      ]
    },
    {
      "cell_type": "markdown",
      "metadata": {
        "id": "LTKs2YTPNMXO"
      },
      "source": [
        "\n",
        "\n",
        "---\n",
        "\n",
        "\n",
        "\n",
        "## Submit your work via GitHub as normal\n"
      ]
    }
  ],
  "metadata": {
    "kernelspec": {
      "display_name": "Python 3",
      "language": "python",
      "name": "python3"
    },
    "language_info": {
      "codemirror_mode": {
        "name": "ipython",
        "version": 3
      },
      "file_extension": ".py",
      "mimetype": "text/x-python",
      "name": "python",
      "nbconvert_exporter": "python",
      "pygments_lexer": "ipython3",
      "version": "3.9.16"
    },
    "colab": {
      "provenance": []
    }
  },
  "nbformat": 4,
  "nbformat_minor": 0
}