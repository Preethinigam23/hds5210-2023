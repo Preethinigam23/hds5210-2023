{
  "cells": [
    {
      "cell_type": "markdown",
      "metadata": {
        "id": "YbGEP2i6nBNl"
      },
      "source": [
        "# Week 7 Assignment\n",
        "\n",
        "We've been working with different types of data structures in Python (dictionary, list, etc), how those are represented in JSON documents, and how to write code to access specific data elements. In this week's assignment, you will need to create your own JSON document to store information about yourself and the grades you've received from week 1 to week 4 and the week 6 quiz.  That is, everything you should have received a grade for.  Then you'll need to show me you know how to navigate the JSON in that file.\n",
        "\n",
        "Different from what we've done in the past, you do not have to write any functions or include any docstrings.  Just create some JSON and write some code.\n",
        "\n",
        "---"
      ]
    },
    {
      "cell_type": "markdown",
      "metadata": {
        "id": "9kgmE1kinBNm"
      },
      "source": [
        "## 7.1 Create a JSON string\n",
        "\n",
        "Create a JSON string that contains your name, email, year you were born, all of the grades you've received back so far, and a comment about what you thought was most challenging on each of those assignments.  This can be any structure you choose, but make sure it uses a dictionary and a list, and has at least two levels of hierarchy.  That is, it can't just be one big long list."
      ]
    },
    {
      "cell_type": "markdown",
      "metadata": {
        "id": "qrwllLjcnBNn"
      },
      "source": [
        "First, explain how your data structure is going to look..."
      ]
    },
    {
      "cell_type": "markdown",
      "metadata": {
        "id": "BJFc8sJ4nBNn"
      },
      "source": [
        "I plan to organize the information about myslef using a dictionary. This dictionary will encompass various personal details, including my name, email, birth year. Further more, I will incorporate a key to hold my academic records, Which will be structured as a list of dictionaries. Each dictionary within this list will document the grade for a specific week's assignment, along with a comment describing the most difficult part of that particular assignment."
      ]
    },
    {
      "cell_type": "markdown",
      "metadata": {
        "id": "ET0lQkhSnBNo"
      },
      "source": [
        "Then put the actual JSON you've created inside the multiline string below..."
      ]
    },
    {
      "cell_type": "code",
      "execution_count": 1,
      "metadata": {
        "id": "r71gIfscnBNo"
      },
      "outputs": [],
      "source": [
        "hds5210 = \"\"\"\n",
        "{\n",
        "  \"name\": \"Preethi Nigam Errala\",\n",
        "  \"email\": \"perrala@slu.edu\",\n",
        "  \"year of birth\": \"2001\",\n",
        "  \"grades\": [\n",
        "    {\n",
        "      \"assignment\": \"week 01\",\n",
        "      \"grade\": \"10/10\",\n",
        "      \"comment\": \"I had a problem in creating the github account with slu mail, which was the challenging situation in the begining.\"\n",
        "    },\n",
        "    {\n",
        "      \"assignment\": \"week 02\",\n",
        "      \"grade\": \"10/10\",\n",
        "      \"comment\": \"The calculus part was the most challenging thing in the begining of the python.\"\n",
        "    },\n",
        "    {\n",
        "      \"assignment\": \"week 03\",\n",
        "      \"grade\": \"10/10\",\n",
        "      \"comment\": \"I struggled with the LACE and Risk score to satisfy all the assertions.\"\n",
        "    },\n",
        "    {\n",
        "      \"assignment\": \"week 04\",\n",
        "      \"grade\": \"10/10\",\n",
        "      \"comment\": \"As the time passes the difficulty level has been increased, I faced problem with converting one type of data structure to another type.\"\n",
        "    },\n",
        "    {\n",
        "      \"assignment\": \"week 06 quiz\",\n",
        "      \"grade\": \"05/20\",\n",
        "      \"comment\": \"I felt this, the most challenging which rely on the time, It was too difficult to write the code within the given 15mins.\"\n",
        "    }\n",
        "  ]\n",
        "}\n",
        "\"\"\""
      ]
    },
    {
      "cell_type": "markdown",
      "metadata": {
        "id": "2AGs_-annBNo"
      },
      "source": [
        "## 7.2 Do something with your JSON\n",
        "\n",
        "Now use Python code to do something with the Json above.  Turn it into English text, but make sure that you use at least one loop to access some dict or list content of your JSON.  Below, I've provided some basic code to read in the string above as JSON and return a Python object.  Your job is to work with that data structure and print out the important information like your name, email, and how you did on each assignment."
      ]
    },
    {
      "cell_type": "code",
      "execution_count": 2,
      "metadata": {
        "colab": {
          "base_uri": "https://localhost:8080/"
        },
        "id": "5KtD7M-dnBNp",
        "outputId": "e9ce8b5a-4d78-4d38-9fed-6b5dd09357e5"
      },
      "outputs": [
        {
          "output_type": "stream",
          "name": "stdout",
          "text": [
            "Hi my name is Preethi Nigam Errala and my email is (perrala@slu.edu).\n",
            "I recieved a score of 10/10 on the week 01 assignment; I had a problem in creating the github account with slu mail, which was the challenging situation in the begining.\n",
            "I recieved a score of 10/10 on the week 02 assignment; The calculus part was the most challenging thing in the begining of the python.\n",
            "I recieved a score of 10/10 on the week 03 assignment; I struggled with the LACE and Risk score to satisfy all the assertions.\n",
            "I recieved a score of 10/10 on the week 04 assignment; As the time passes the difficulty level has been increased, I faced problem with converting one type of data structure to another type.\n",
            "I recieved a score of 05/20 on the week 06 quiz assignment; I felt this, the most challenging which rely on the time, It was too difficult to write the code within the given 15mins.\n",
            "\n"
          ]
        }
      ],
      "source": [
        "import json\n",
        "\n",
        "info = json.loads(hds5210)\n",
        "name = info[\"name\"]\n",
        "email = info[\"email\"]\n",
        "academic_data = info[\"grades\"]\n",
        "\n",
        "academic_text = f\"Hi my name is {name} and my email is ({email}).\\n\"\n",
        "grades_text = \"\"\n",
        "\n",
        "for grade_info in academic_data:\n",
        "  assignment_name = grade_info[\"assignment\"]\n",
        "  grade = grade_info[\"grade\"]\n",
        "  comment = grade_info[\"comment\"]\n",
        "  academic_text += f\"I recieved a score of {grade} on the {assignment_name} assignment; {comment}\\n\"\n",
        "\n",
        "print(academic_text)"
      ]
    },
    {
      "cell_type": "markdown",
      "metadata": {
        "id": "Lexvs_4cnBNp"
      },
      "source": [
        "## 7.3 Reflect\n",
        "\n",
        "Write a paragraph on any reflections you have. Was this hard? Easy?  What parts were most challenging or easiest? What did you like or dislike about the assignment?  Share whatever important thoughts you have abou this assignment."
      ]
    },
    {
      "cell_type": "markdown",
      "metadata": {
        "id": "toVHXXDOnBNp"
      },
      "source": [
        "I found this task to strike a good balance, providing valuable learning opportunities. It didn't pose an excessive challenge, but is also wasn't too simple, which made it an ideal learning experience. The aspect that proved most demanding for me was grappling with issues related to JSON formatting and comprehending the precise structure it requires. This underscored the importance of accurate syntax and proper representation within JSON, both of which are crucial for effective data manipulation.\n",
        "\n",
        "One aspect of the assignment that I particularly valued was the problem-solving process it involved. Identifying and resolving issues allowed me to gain a deeper insight into JSON and Python, reinforcing the significance of paying meticulous attention to detail in progamming."
      ]
    },
    {
      "cell_type": "markdown",
      "metadata": {
        "id": "RLFOFDrNnBNp"
      },
      "source": [
        "---\n",
        "\n",
        "# Example\n",
        "\n",
        "Below is an example of something similar, but this uses information my and my friend's kids instead of grades."
      ]
    },
    {
      "cell_type": "code",
      "execution_count": null,
      "metadata": {
        "id": "ojSoF91jnBNp",
        "outputId": "a546ae82-4182-404c-9bf7-e9af8b7ce05e"
      },
      "outputs": [
        {
          "name": "stdout",
          "output_type": "stream",
          "text": [
            "Hi, my name is Paul. I've got 3 kids. Their names are Ellie, Ada, Teddy.\n",
            "My friend, Anny has 1 kids. That's fewer than me. Their names are 1\n"
          ]
        }
      ],
      "source": [
        "hds5210 = \"\"\"\n",
        "{\n",
        "    \"me\": {\n",
        "        \"name\": \"Paul\",\n",
        "        \"kids\": [\"Ellie\", \"Ada\", \"Teddy\"]\n",
        "    },\n",
        "    \"friend\": {\n",
        "        \"name\": \"Anny\",\n",
        "        \"kids\": [\"Abby\"]\n",
        "    }\n",
        "}\n",
        "\"\"\"\n",
        "\n",
        "import json\n",
        "\n",
        "info = json.loads(hds5210)\n",
        "\n",
        "me = info[\"me\"][\"name\"]\n",
        "my_kids_count = len(info[\"me\"][\"kids\"])\n",
        "kids_list = \", \".join(info[\"me\"][\"kids\"])\n",
        "friend = info[\"friend\"][\"name\"]\n",
        "friends_kid_count = len(info[\"friend\"][\"kids\"])\n",
        "friend_kids = \", \".join(info[\"friend\"][\"kids\"])\n",
        "compare = \"more\" if friends_kid_count > my_kids_count else \"fewer\"\n",
        "\n",
        "print(f\"Hi, my name is {me}. I've got {my_kids_count} kids. Their names are {kids_list}.\")\n",
        "print(f\"My friend, {friend} has {friends_kid_count} kids. That's {compare} than me. Their names are {friends_kid_count}\")"
      ]
    }
  ],
  "metadata": {
    "kernelspec": {
      "display_name": "Python 3",
      "language": "python",
      "name": "python3"
    },
    "language_info": {
      "codemirror_mode": {
        "name": "ipython",
        "version": 3
      },
      "file_extension": ".py",
      "mimetype": "text/x-python",
      "name": "python",
      "nbconvert_exporter": "python",
      "pygments_lexer": "ipython3",
      "version": "3.9.16"
    },
    "colab": {
      "provenance": []
    }
  },
  "nbformat": 4,
  "nbformat_minor": 0
}